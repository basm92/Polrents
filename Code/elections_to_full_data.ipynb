{
 "cells": [
  {
   "cell_type": "markdown",
   "id": "53a9e0ab",
   "metadata": {},
   "source": [
    "## elections_to_full_data\n",
    "\n",
    "This code file departs from the election list. We implement several steps in this file. The first objective is to match the names of the elections with the names of the politicians, and also with the names of the non-politicians whose data we have collected. \n",
    "\n",
    "The first thing we do is load the packages, and then clean up the dataset and compute the margin of victory of all the politicians. "
   ]
  },
  {
   "cell_type": "code",
   "execution_count": 1,
   "id": "afc8d4b1",
   "metadata": {},
   "outputs": [],
   "source": [
    "# Load the libraries\n",
    "import pandas as pd\n",
    "import numpy as np\n",
    "import re\n",
    "\n",
    "from pandas_ods_reader import read_ods\n",
    "import statistics\n",
    "\n",
    "import numpy as np\n",
    "import matplotlib.pyplot as plt\n",
    "\n",
    "from matplotlib import pyplot as plt\n",
    "\n",
    "from tqdm import tqdm\n",
    "\n",
    "from functions import *\n",
    "\n",
    "from thefuzz import fuzz\n",
    "from thefuzz import process"
   ]
  },
  {
   "cell_type": "code",
   "execution_count": 2,
   "id": "56769f98",
   "metadata": {},
   "outputs": [],
   "source": [
    "# Import the election data\n",
    "elected_people = pd.read_csv(\"../Data/elections/allelected.csv\", encoding='latin-1')"
   ]
  },
  {
   "cell_type": "code",
   "execution_count": 3,
   "id": "15f0e070",
   "metadata": {},
   "outputs": [],
   "source": [
    "elected_people['naam'] = elected_people['voornaam'] + ' ' + elected_people['achternaam']\n",
    "elected_people['verkiezingdatum'] = (elected_people['dag'].astype(str) + \n",
    "                                     '-' + \n",
    "                                     elected_people['maand'].astype(str) +\n",
    "                                     '-' +\n",
    "                                     elected_people['jaar'].astype(str)\n",
    "                                    )\n",
    "elected_people['verkiezingdatum'] = elected_people.apply(lambda x: pd.Timestamp(year=x['jaar'], month=x['maand'], day=x['dag']), axis=1)"
   ]
  },
  {
   "cell_type": "code",
   "execution_count": 4,
   "id": "d9de3447",
   "metadata": {},
   "outputs": [],
   "source": [
    "election_results_details = pd.read_csv(\"../Data/elections/election_results_details.csv\").iloc[:,1:]\n",
    "election_results_details['Verkiezingdatum'] = (election_results_details['Verkiezingdatum'].\n",
    "                                               apply(lambda x: pd.Timestamp(x))\n",
    "                                              )\n",
    "\n",
    "def get_zetels(df):\n",
    "    a = pd.to_numeric(df['Aantal zetels'], errors='coerce')\n",
    "    b = np.mean(a)\n",
    "    return (b)\n",
    "\n",
    "aantal_zetels = (election_results_details.groupby(['District', 'Verkiezingdatum']).\n",
    "                 apply(get_zetels).reset_index().rename(columns={0:'Aantal zetels'})\n",
    "                )"
   ]
  },
  {
   "cell_type": "code",
   "execution_count": 5,
   "id": "20ca4a7a",
   "metadata": {},
   "outputs": [],
   "source": [
    "#pd.merge(elected_people, aantal_zetels, \n",
    "#         left_on=['districtsnaam', 'verkiezingdatum'],\n",
    "#         right_on=['District', 'Verkiezingdatum']).drop(columns=['District', 'Verkiezingdatum'])\n"
   ]
  },
  {
   "cell_type": "code",
   "execution_count": 6,
   "id": "a133d367",
   "metadata": {},
   "outputs": [],
   "source": [
    "all_candidates = pd.read_csv(\"../Data/elections/election_results_details.csv\").iloc[:,1:]\n",
    "\n",
    "\n",
    "all_candidates['Verkiezingdatum'] = all_candidates['Verkiezingdatum'].str.split(\"/\")\n",
    "all_candidates['Verkiezingdatum'] = all_candidates['Verkiezingdatum'].apply(lambda x: [int(y) for y in x])\n",
    "all_candidates['Verkiezingdatum'] = all_candidates['Verkiezingdatum'].apply(\n",
    "    lambda x: pd.Timestamp(day=x[0], month=x[1], year=x[2]) if all(type(y) == int for y in x)\n",
    "    else None\n",
    ")\n",
    "all_candidates['Aantal zetels'] = all_candidates['Aantal zetels'].apply(lambda x: pd.to_numeric(x, errors='coerce'))\n",
    "all_candidates['Aantal stemmen'] = (all_candidates['Aantal stemmen'].\n",
    "                                    apply(lambda x: pd.to_numeric(x, errors='coerce'))\n",
    "                                   )\n",
    "\n",
    "aantal_stemmen = (all_candidates.groupby(['District','Verkiezingdatum']).\n",
    " apply(lambda x: sum(x['Aantal stemmen'])).\n",
    " reset_index().\n",
    " rename(columns={0:'totaal aantal stemmen'})\n",
    ")\n",
    "\n",
    "all_candidates = pd.merge(all_candidates, aantal_stemmen,\n",
    "        left_on=['District', 'Verkiezingdatum'],\n",
    "        right_on=['District', 'Verkiezingdatum'])\n",
    "\n",
    "all_candidates = (all_candidates.groupby(['District', 'Verkiezingdatum']).\n",
    " apply(lambda x: x.sort_values(['Aantal stemmen'], \n",
    "                               ascending = False))\n",
    ").reset_index(drop=True)\n",
    "\n",
    "all_candidates['hoeveelste_in_verkiezing'] = (all_candidates.groupby(['District', 'Verkiezingdatum']).\n",
    "                                              cumcount() + 1)\n",
    "\n",
    "all_candidates['gewonnen'] = np.where(all_candidates['hoeveelste_in_verkiezing'] <= all_candidates['Aantal zetels'], 1, 0)\n",
    "all_candidates['marginal_winner'] = np.where(all_candidates['Aantal zetels'] - all_candidates['hoeveelste_in_verkiezing'] == 0, 1, 0)\n",
    "all_candidates['marginal_loser'] = np.where(all_candidates['Aantal zetels'] - all_candidates['hoeveelste_in_verkiezing'] == -1, 1, 0)"
   ]
  },
  {
   "cell_type": "code",
   "execution_count": 7,
   "id": "2fbf2c3a",
   "metadata": {},
   "outputs": [
    {
     "name": "stderr",
     "output_type": "stream",
     "text": [
      "100%|██████████| 8238/8238 [01:17<00:00, 105.74it/s]\n"
     ]
    }
   ],
   "source": [
    "all_candidates = get_margin(all_candidates)"
   ]
  },
  {
   "cell_type": "code",
   "execution_count": 8,
   "id": "3fecb2e8",
   "metadata": {},
   "outputs": [],
   "source": [
    "#get_match(elected_people).to_csv(\"../Data/politician_data/key_allelected_to_all_candidates.csv\", index = False)"
   ]
  },
  {
   "cell_type": "code",
   "execution_count": 9,
   "id": "37e6304f",
   "metadata": {},
   "outputs": [],
   "source": [
    "key = pd.read_csv(\"../Data/politician_data/key_allelected_to_all_candidates.csv\")\n",
    "\n",
    "all_candidates = pd.merge(all_candidates, key, \n",
    "         how='left',\n",
    "         left_on='Naam',\n",
    "         right_on='name_in_all_elections')\n",
    "\n",
    "cols_to_order = ['Naam', 'name_in_all_elections', 'name_in_elected_people']\n",
    "new_columns = cols_to_order + (all_candidates.columns.drop(cols_to_order).tolist())\n",
    "\n",
    "all_candidates = all_candidates[new_columns]"
   ]
  },
  {
   "cell_type": "code",
   "execution_count": 10,
   "id": "251c076c",
   "metadata": {},
   "outputs": [],
   "source": [
    "consequential_elections = []\n",
    "\n",
    "for i in range(len(elected_people)):\n",
    "    consequential_elections.append((elected_people['verkiezingdatum'].iloc[i], elected_people['districtsnaam'].iloc[i]))\n"
   ]
  },
  {
   "cell_type": "code",
   "execution_count": 61,
   "id": "d2470da5",
   "metadata": {
    "scrolled": true
   },
   "outputs": [
    {
     "name": "stderr",
     "output_type": "stream",
     "text": [
      "100%|██████████| 8238/8238 [05:50<00:00, 23.48it/s]\n"
     ]
    }
   ],
   "source": [
    "complete_elections_dataset = get_elec_stats(all_candidates)"
   ]
  },
  {
   "cell_type": "code",
   "execution_count": null,
   "id": "05ea8a40",
   "metadata": {},
   "outputs": [],
   "source": [
    "complete_elections_dataset.head(30)"
   ]
  },
  {
   "cell_type": "markdown",
   "id": "2f15e2b3",
   "metadata": {},
   "source": [
    "## To Do:\n",
    "\n",
    "Tomorrow, I have to match the names from the (ever) elected-people to the names in the PDC dataset. This way, I can merge the PDC data of two categories of people:\n",
    "\n",
    "   - Politicians\n",
    "   - Unsuccesful future or past politicians\n",
    "    \n",
    "Then, the only other candidates that have to be merged are the never succesful candidates, which are supposed to be an exact match. \n",
    "\n",
    "   - Check whether this is in fact true, whether all of these observations are to be found in the list of complete_elections_dataset."
   ]
  },
  {
   "cell_type": "code",
   "execution_count": null,
   "id": "7749f251",
   "metadata": {},
   "outputs": [],
   "source": []
  }
 ],
 "metadata": {
  "kernelspec": {
   "display_name": "Python 3",
   "language": "python",
   "name": "python3"
  },
  "language_info": {
   "codemirror_mode": {
    "name": "ipython",
    "version": 3
   },
   "file_extension": ".py",
   "mimetype": "text/x-python",
   "name": "python",
   "nbconvert_exporter": "python",
   "pygments_lexer": "ipython3",
   "version": "3.7.10"
  },
  "varInspector": {
   "cols": {
    "lenName": 16,
    "lenType": 16,
    "lenVar": 40
   },
   "kernels_config": {
    "python": {
     "delete_cmd_postfix": "",
     "delete_cmd_prefix": "del ",
     "library": "var_list.py",
     "varRefreshCmd": "print(var_dic_list())"
    },
    "r": {
     "delete_cmd_postfix": ") ",
     "delete_cmd_prefix": "rm(",
     "library": "var_list.r",
     "varRefreshCmd": "cat(var_dic_list()) "
    }
   },
   "position": {
    "height": "587.85px",
    "left": "1894px",
    "right": "20px",
    "top": "157px",
    "width": "418.767px"
   },
   "types_to_exclude": [
    "module",
    "function",
    "builtin_function_or_method",
    "instance",
    "_Feature"
   ],
   "window_display": true
  }
 },
 "nbformat": 4,
 "nbformat_minor": 5
}
