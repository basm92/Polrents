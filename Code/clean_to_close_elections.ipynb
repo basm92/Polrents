{
 "cells": [
  {
   "cell_type": "code",
   "execution_count": 168,
   "metadata": {},
   "outputs": [],
   "source": [
    "import pandas as pd\n",
    "import numpy as np\n",
    "import re\n",
    "import itertools"
   ]
  },
  {
   "cell_type": "markdown",
   "metadata": {},
   "source": [
    "# What do I do?\n",
    "\n",
    "I import the data, I group it by District and Verkiezingsdatum (so as to have unique groups), and then I calculate positions. \n",
    "\n",
    "Then I calculate the winning and losing candidates by taking \"if <position> > <Aantal zetels>\" then Loser, otherwise winner. \n",
    "    \n",
    "Then, I calculate the margins for the losers to the lowest winner. \n",
    "    \n",
    "Finally, I make a new dataset containing only the closely elected politicians and the names of the winners of the district."
   ]
  },
  {
   "cell_type": "code",
   "execution_count": 359,
   "metadata": {},
   "outputs": [],
   "source": [
    "data = pd.read_csv(\"../Data/elections/election_results_details.csv\")\n",
    "data = data.drop('Unnamed: 0', axis=1)"
   ]
  },
  {
   "cell_type": "markdown",
   "metadata": {},
   "source": [
    "## First, make a counter"
   ]
  },
  {
   "cell_type": "code",
   "execution_count": 360,
   "metadata": {},
   "outputs": [],
   "source": [
    "def counter(group):\n",
    "    temp = pd.Series(range(0,len(group)), dtype='int')\n",
    "    temp = temp + 1\n",
    "    return temp"
   ]
  },
  {
   "cell_type": "code",
   "execution_count": 361,
   "metadata": {},
   "outputs": [],
   "source": [
    "data[\"counts\"] = data.groupby(['District', 'Verkiezingdatum'], sort = False)['Naam'].transform(counter)"
   ]
  },
  {
   "cell_type": "markdown",
   "metadata": {},
   "source": [
    "## Then, make win indicators"
   ]
  },
  {
   "cell_type": "code",
   "execution_count": 362,
   "metadata": {},
   "outputs": [],
   "source": [
    "data['Aantal zetels'] = pd.to_numeric(data['Aantal zetels'], errors='coerce')\n",
    "\n",
    "data[\"won\"] = np.where(data[\"counts\"] <= data['Aantal zetels'], 1,0)"
   ]
  },
  {
   "cell_type": "markdown",
   "metadata": {},
   "source": [
    "## Now, calculate the margin to the lowest winner"
   ]
  },
  {
   "cell_type": "code",
   "execution_count": 363,
   "metadata": {},
   "outputs": [],
   "source": [
    "winners = data.groupby(['District', 'Verkiezingdatum'], sort = False, as_index = False).apply(lambda x: x[x['won'] == 1])\n",
    "winners['Aantal stemmen'] = pd.to_numeric(winners['Aantal stemmen'])"
   ]
  },
  {
   "cell_type": "code",
   "execution_count": 364,
   "metadata": {},
   "outputs": [],
   "source": [
    "minwinners = winners.loc[winners.groupby(['District', 'Verkiezingdatum'], sort = False, as_index = False)['Aantal stemmen'].idxmin()]\n",
    "minwinners = minwinners.reset_index().iloc[:,2:]"
   ]
  },
  {
   "cell_type": "markdown",
   "metadata": {},
   "source": [
    "# Now\n",
    "\n",
    "Make a per unique election min_procentueel and min_aantal_stemmen\n",
    "\n",
    "Then merge them with the large dataframe with all candidates\n",
    "\n",
    "And calculate the margn\n",
    "\n",
    "If negative, then they lost. We then proceed to check a couple of things"
   ]
  },
  {
   "cell_type": "code",
   "execution_count": 365,
   "metadata": {},
   "outputs": [],
   "source": [
    "#Make a per unique election min_procentueel and min_aantal_stemmen\n",
    "minwinners = minwinners.iloc[:,[4,5,2,3]]\n",
    "\n",
    "minwinners = minwinners.rename({'Aantal stemmen':'min_stem_win', \n",
    "                  'Procentueel':'min_pct_win'}, axis=1)"
   ]
  },
  {
   "cell_type": "code",
   "execution_count": 366,
   "metadata": {},
   "outputs": [],
   "source": [
    "#Then merge them with the large dataframe with all candidates\n",
    "allmgn = data.merge(minwinners, how='left', left_on=['District','Verkiezingdatum'], right_on=['District','Verkiezingdatum'])"
   ]
  },
  {
   "cell_type": "code",
   "execution_count": 367,
   "metadata": {},
   "outputs": [],
   "source": [
    "#Calculate the margin\n",
    "allmgn['Aantal stemmen'] = pd.to_numeric(allmgn['Aantal stemmen'], errors='coerce')\n",
    "\n",
    "def p2f(x):\n",
    "    var = []\n",
    "    for i in x:\n",
    "        var.append(pd.to_numeric(i.strip('%'), errors='coerce')/100)\n",
    "    return var\n",
    "\n",
    "allmgn['Procentueel'] = p2f(allmgn['Procentueel'])"
   ]
  },
  {
   "cell_type": "code",
   "execution_count": 399,
   "metadata": {},
   "outputs": [],
   "source": [
    "def p2f_nan(x):\n",
    "    var = []\n",
    "    for i in x:\n",
    "        if type(i) == str:\n",
    "            var.append(pd.to_numeric(i.strip('%'), errors='coerce')/100)\n",
    "        else:\n",
    "            var.append(i)\n",
    "    return var\n",
    "\n",
    "allmgn['min_pct_win'] = p2f_nan(allmgn['min_pct_win'])"
   ]
  },
  {
   "cell_type": "code",
   "execution_count": null,
   "metadata": {},
   "outputs": [],
   "source": [
    "allmgn['margin'] = allmgn['Procentueel'] - allmgn['min_pct_win']"
   ]
  },
  {
   "cell_type": "code",
   "execution_count": 431,
   "metadata": {},
   "outputs": [],
   "source": [
    "# If negative, they lost:\n",
    "\n",
    "def close_cand(x, pct):\n",
    "    var = []\n",
    "    for i in x:\n",
    "        var.append(pd.to_numeric(np.where(i < 0 and i > -pct, 1, 0)))\n",
    "    return pd.Series(var)\n",
    "        \n",
    "\n",
    "allmgn['close_cand_5pct'] = close_cand(allmgn['margin'], 0.05)\n",
    "allmgn['close_cand_10pct'] = close_cand(allmgn['margin'], 0.10)\n",
    "allmgn['close_cand_20pct'] = close_cand(allmgn['margin'], 0.20)"
   ]
  },
  {
   "cell_type": "markdown",
   "metadata": {},
   "source": [
    "## Finally..\n",
    "\n",
    "Take the data frame, take only the close losers\n",
    "\n",
    "- For each close loser, look up the (just) winner in that election (only 1 person)\n",
    "- Match each loser to that winner (multiple matches per district possible if e.g. 2 close losing candidates)\n",
    "    - Merge strategy: take all the eligible just losers\n",
    "    - Merge them to a filtered dataset finished with the just winners on the basis of district, date (left join with left = just losers)\n",
    "\n"
   ]
  },
  {
   "cell_type": "code",
   "execution_count": null,
   "metadata": {},
   "outputs": [],
   "source": []
  },
  {
   "cell_type": "markdown",
   "metadata": {},
   "source": [
    "# Retrieve some additional information\n",
    "\n",
    "- Are they on parlement.com?\n",
    "- Sterfplaats\n",
    "- Sterfteleeftijd (geboortejaar)\n",
    "- Distance to Den Haag via Google Maps API"
   ]
  },
  {
   "cell_type": "code",
   "execution_count": null,
   "metadata": {},
   "outputs": [],
   "source": []
  }
 ],
 "metadata": {
  "kernelspec": {
   "display_name": "Python 3",
   "language": "python",
   "name": "python3"
  },
  "language_info": {
   "codemirror_mode": {
    "name": "ipython",
    "version": 3
   },
   "file_extension": ".py",
   "mimetype": "text/x-python",
   "name": "python",
   "nbconvert_exporter": "python",
   "pygments_lexer": "ipython3",
   "version": "3.7.6"
  }
 },
 "nbformat": 4,
 "nbformat_minor": 4
}
