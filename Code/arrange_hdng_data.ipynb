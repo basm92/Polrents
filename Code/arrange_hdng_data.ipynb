{
 "cells": [
  {
   "cell_type": "code",
   "execution_count": 3,
   "id": "1f02c20b",
   "metadata": {},
   "outputs": [],
   "source": [
    "#### Find HDNG Data and restructure it so that it be useful\n",
    "### Also combine this with a key between different municipality names\n",
    "\n",
    "## Import libraries\n",
    "import pandas as pd\n",
    "import urllib.request\n",
    "import os"
   ]
  },
  {
   "cell_type": "code",
   "execution_count": 6,
   "id": "ae711855",
   "metadata": {},
   "outputs": [],
   "source": [
    "## First, download the data and read it into python's memory\n",
    "url=\"https://datasets.iisg.amsterdam/api/access/datafile/10264\"\n",
    "urllib.request.urlretrieve(url, '../Data/hdng.txt')\n",
    "\n",
    "#os.remove(\"./Data/hdng.txt\")\n",
    "\n",
    "variablenames = []\n",
    "variableinformation = []\n",
    "\n"
   ]
  },
  {
   "cell_type": "code",
   "execution_count": 7,
   "id": "ccfd1661",
   "metadata": {},
   "outputs": [],
   "source": [
    "hdng = pd.read_csv(\"../Data/hdng.txt\",  \n",
    "  dtype={'amco':'Int32', 'naam':str, 'variable':str, 'description':str,'information':str, 'year':'Int32','values':str},\n",
    "  delimiter = \",\", \n",
    "  usecols=['amco','name', 'variable', 'description','information','year','value'])"
   ]
  },
  {
   "cell_type": "code",
   "execution_count": 8,
   "id": "d251b350",
   "metadata": {},
   "outputs": [],
   "source": [
    "hdng = hdng[(hdng['year'] < 1940) & (~pd.isna(hdng['amco']))]\n"
   ]
  },
  {
   "cell_type": "code",
   "execution_count": 11,
   "id": "dfc15a41",
   "metadata": {},
   "outputs": [],
   "source": [
    "## Now, clean the data\n",
    "### Fiscal dataframe, the years for\n",
    "### 'totaal personele belastingen' are 1859, 1869, 1870, 1879\n",
    "### we can use this for birthplace and also for district\n",
    "\n",
    "belastingen = hdng[hdng['description'].str.contains('Belastingen')]"
   ]
  },
  {
   "cell_type": "code",
   "execution_count": 54,
   "id": "6362793f",
   "metadata": {},
   "outputs": [
    {
     "data": {
      "text/html": [
       "<div>\n",
       "<style scoped>\n",
       "    .dataframe tbody tr th:only-of-type {\n",
       "        vertical-align: middle;\n",
       "    }\n",
       "\n",
       "    .dataframe tbody tr th {\n",
       "        vertical-align: top;\n",
       "    }\n",
       "\n",
       "    .dataframe thead th {\n",
       "        text-align: right;\n",
       "    }\n",
       "</style>\n",
       "<table border=\"1\" class=\"dataframe\">\n",
       "  <thead>\n",
       "    <tr style=\"text-align: right;\">\n",
       "      <th></th>\n",
       "      <th>amco</th>\n",
       "      <th>name</th>\n",
       "      <th>variable</th>\n",
       "      <th>description</th>\n",
       "      <th>information</th>\n",
       "      <th>year</th>\n",
       "      <th>value</th>\n",
       "    </tr>\n",
       "  </thead>\n",
       "  <tbody>\n",
       "    <tr>\n",
       "      <th>190367</th>\n",
       "      <td>10002</td>\n",
       "      <td>ZUIDLAREN</td>\n",
       "      <td>H859BHPB</td>\n",
       "      <td>Belastingen</td>\n",
       "      <td>totaal personele belastingen</td>\n",
       "      <td>1859</td>\n",
       "      <td>2602.0</td>\n",
       "    </tr>\n",
       "    <tr>\n",
       "      <th>190368</th>\n",
       "      <td>10004</td>\n",
       "      <td>ZIJPE</td>\n",
       "      <td>H859BHPB</td>\n",
       "      <td>Belastingen</td>\n",
       "      <td>totaal personele belastingen</td>\n",
       "      <td>1859</td>\n",
       "      <td>8874.0</td>\n",
       "    </tr>\n",
       "    <tr>\n",
       "      <th>190369</th>\n",
       "      <td>10005</td>\n",
       "      <td>OPSTERLAND</td>\n",
       "      <td>H859BHPB</td>\n",
       "      <td>Belastingen</td>\n",
       "      <td>totaal personele belastingen</td>\n",
       "      <td>1859</td>\n",
       "      <td>14069.0</td>\n",
       "    </tr>\n",
       "    <tr>\n",
       "      <th>190370</th>\n",
       "      <td>10006</td>\n",
       "      <td>BAARDWIJK</td>\n",
       "      <td>H859BHPB</td>\n",
       "      <td>Belastingen</td>\n",
       "      <td>totaal personele belastingen</td>\n",
       "      <td>1859</td>\n",
       "      <td>997.0</td>\n",
       "    </tr>\n",
       "    <tr>\n",
       "      <th>190371</th>\n",
       "      <td>10007</td>\n",
       "      <td>VAALS</td>\n",
       "      <td>H859BHPB</td>\n",
       "      <td>Belastingen</td>\n",
       "      <td>totaal personele belastingen</td>\n",
       "      <td>1859</td>\n",
       "      <td>2570.0</td>\n",
       "    </tr>\n",
       "    <tr>\n",
       "      <th>...</th>\n",
       "      <td>...</td>\n",
       "      <td>...</td>\n",
       "      <td>...</td>\n",
       "      <td>...</td>\n",
       "      <td>...</td>\n",
       "      <td>...</td>\n",
       "      <td>...</td>\n",
       "    </tr>\n",
       "    <tr>\n",
       "      <th>2366975</th>\n",
       "      <td>11432</td>\n",
       "      <td>HURWENEN</td>\n",
       "      <td>H934PVAR</td>\n",
       "      <td>Belastingen</td>\n",
       "      <td>percentage aangeslagenen vermogensbelastingen,...</td>\n",
       "      <td>1934</td>\n",
       "      <td>147.0</td>\n",
       "    </tr>\n",
       "    <tr>\n",
       "      <th>2366976</th>\n",
       "      <td>11433</td>\n",
       "      <td>CHAAM</td>\n",
       "      <td>H934PVAR</td>\n",
       "      <td>Belastingen</td>\n",
       "      <td>percentage aangeslagenen vermogensbelastingen,...</td>\n",
       "      <td>1934</td>\n",
       "      <td>262.0</td>\n",
       "    </tr>\n",
       "    <tr>\n",
       "      <th>2366977</th>\n",
       "      <td>11434</td>\n",
       "      <td>'S GRAVENHAGE</td>\n",
       "      <td>H934PVAR</td>\n",
       "      <td>Belastingen</td>\n",
       "      <td>percentage aangeslagenen vermogensbelastingen,...</td>\n",
       "      <td>1934</td>\n",
       "      <td>130.0</td>\n",
       "    </tr>\n",
       "    <tr>\n",
       "      <th>2366978</th>\n",
       "      <td>11435</td>\n",
       "      <td>HAAKSBERGEN</td>\n",
       "      <td>H934PVAR</td>\n",
       "      <td>Belastingen</td>\n",
       "      <td>percentage aangeslagenen vermogensbelastingen,...</td>\n",
       "      <td>1934</td>\n",
       "      <td>247.0</td>\n",
       "    </tr>\n",
       "    <tr>\n",
       "      <th>2366979</th>\n",
       "      <td>11447</td>\n",
       "      <td>CADIER EN KEER</td>\n",
       "      <td>H934PVAR</td>\n",
       "      <td>Belastingen</td>\n",
       "      <td>percentage aangeslagenen vermogensbelastingen,...</td>\n",
       "      <td>1934</td>\n",
       "      <td>152.0</td>\n",
       "    </tr>\n",
       "  </tbody>\n",
       "</table>\n",
       "<p>8402 rows × 7 columns</p>\n",
       "</div>"
      ],
      "text/plain": [
       "          amco            name  variable  description  \\\n",
       "190367   10002       ZUIDLAREN  H859BHPB  Belastingen   \n",
       "190368   10004           ZIJPE  H859BHPB  Belastingen   \n",
       "190369   10005      OPSTERLAND  H859BHPB  Belastingen   \n",
       "190370   10006       BAARDWIJK  H859BHPB  Belastingen   \n",
       "190371   10007           VAALS  H859BHPB  Belastingen   \n",
       "...        ...             ...       ...          ...   \n",
       "2366975  11432        HURWENEN  H934PVAR  Belastingen   \n",
       "2366976  11433           CHAAM  H934PVAR  Belastingen   \n",
       "2366977  11434   'S GRAVENHAGE  H934PVAR  Belastingen   \n",
       "2366978  11435     HAAKSBERGEN  H934PVAR  Belastingen   \n",
       "2366979  11447  CADIER EN KEER  H934PVAR  Belastingen   \n",
       "\n",
       "                                               information  year    value  \n",
       "190367                        totaal personele belastingen  1859   2602.0  \n",
       "190368                        totaal personele belastingen  1859   8874.0  \n",
       "190369                        totaal personele belastingen  1859  14069.0  \n",
       "190370                        totaal personele belastingen  1859    997.0  \n",
       "190371                        totaal personele belastingen  1859   2570.0  \n",
       "...                                                    ...   ...      ...  \n",
       "2366975  percentage aangeslagenen vermogensbelastingen,...  1934    147.0  \n",
       "2366976  percentage aangeslagenen vermogensbelastingen,...  1934    262.0  \n",
       "2366977  percentage aangeslagenen vermogensbelastingen,...  1934    130.0  \n",
       "2366978  percentage aangeslagenen vermogensbelastingen,...  1934    247.0  \n",
       "2366979  percentage aangeslagenen vermogensbelastingen,...  1934    152.0  \n",
       "\n",
       "[8402 rows x 7 columns]"
      ]
     },
     "execution_count": 54,
     "metadata": {},
     "output_type": "execute_result"
    }
   ],
   "source": [
    "belastingen"
   ]
  },
  {
   "cell_type": "code",
   "execution_count": null,
   "id": "cb1fa3a7",
   "metadata": {},
   "outputs": [],
   "source": []
  },
  {
   "cell_type": "code",
   "execution_count": 10,
   "id": "1f992740",
   "metadata": {},
   "outputs": [],
   "source": [
    "### Professional composition dataframe\n",
    "profcomp = hdng[hdng['description'].str.startswith('Beroepsbevolking')]\n",
    "profcomp = profcomp[profcomp['information'] == 'totaal']"
   ]
  },
  {
   "cell_type": "code",
   "execution_count": 24,
   "id": "76ac9a6e",
   "metadata": {},
   "outputs": [
    {
     "data": {
      "text/plain": [
       "array(['Beroepsbevolking aardewerk', 'Beroepsbevolking drukkersbedrijven',\n",
       "       'Beroepsbevolking bouwbedrijven',\n",
       "       'Beroepsbevolking chemische nijverheid',\n",
       "       'Beroepsbevolking diamantbewerking',\n",
       "       'Beroepsbevolking houtbewerking',\n",
       "       'Beroepsbevolking huiselijke diensten',\n",
       "       'Beroepsbevolking godsdienst',\n",
       "       'Beroepsbevolking kleding en reiniging',\n",
       "       'Beroepsbevolking krediet- en bankwezen',\n",
       "       'Beroepsbevolking kunstnijverheid', 'Beroepsbevolking landbouw',\n",
       "       'Beroepsbevolking leder', 'Beroepsbevolking losse werklieden',\n",
       "       'Beroepsbevolking metaalbewerking',\n",
       "       'Beroepsbevolking mijnen en veenderijen',\n",
       "       'Beroepsbevolking onderwijs', 'Beroepsbevolking papier',\n",
       "       'Beroepsbevolking textiel', 'Beroepsbevolking verkeerswezen',\n",
       "       'Beroepsbevolking visserij en jacht',\n",
       "       'Beroepsbevolking verlichting',\n",
       "       'Beroepsbevolking voedings- en genotmiddelen',\n",
       "       'Beroepsbevolking vrije beroepen',\n",
       "       'Beroepsbevolking verzekeringswezen', 'Beroepsbevolking handel'],\n",
       "      dtype=object)"
      ]
     },
     "execution_count": 24,
     "metadata": {},
     "output_type": "execute_result"
    }
   ],
   "source": [
    "### From this categories, divide into industry, \n",
    "profcomp[profcomp['year'] == 1889]['description'].unique()"
   ]
  },
  {
   "cell_type": "code",
   "execution_count": 53,
   "id": "aa95b638",
   "metadata": {},
   "outputs": [],
   "source": []
  },
  {
   "cell_type": "code",
   "execution_count": null,
   "id": "fc101e48",
   "metadata": {},
   "outputs": [],
   "source": []
  }
 ],
 "metadata": {
  "kernelspec": {
   "display_name": "Python 3",
   "language": "python",
   "name": "python3"
  },
  "language_info": {
   "codemirror_mode": {
    "name": "ipython",
    "version": 3
   },
   "file_extension": ".py",
   "mimetype": "text/x-python",
   "name": "python",
   "nbconvert_exporter": "python",
   "pygments_lexer": "ipython3",
   "version": "3.7.10"
  },
  "varInspector": {
   "cols": {
    "lenName": 16,
    "lenType": 16,
    "lenVar": 40
   },
   "kernels_config": {
    "python": {
     "delete_cmd_postfix": "",
     "delete_cmd_prefix": "del ",
     "library": "var_list.py",
     "varRefreshCmd": "print(var_dic_list())"
    },
    "r": {
     "delete_cmd_postfix": ") ",
     "delete_cmd_prefix": "rm(",
     "library": "var_list.r",
     "varRefreshCmd": "cat(var_dic_list()) "
    }
   },
   "types_to_exclude": [
    "module",
    "function",
    "builtin_function_or_method",
    "instance",
    "_Feature"
   ],
   "window_display": false
  }
 },
 "nbformat": 4,
 "nbformat_minor": 5
}
